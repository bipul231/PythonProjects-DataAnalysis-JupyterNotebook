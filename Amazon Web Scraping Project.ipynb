{
 "cells": [
  {
   "cell_type": "markdown",
   "metadata": {},
   "source": [
    "# AMAZON WEB SCRAPING PROJECT\n",
    "**Connecting Website**\n",
    "\n",
    "**Fetching Data**\n",
    "\n",
    "**Creating CSV File**\n",
    "\n",
    "**Appending CSV File**\n",
    "\n",
    "**Timer To Fetch Data/Price**\n",
    "\n",
    "**Sending EMAIL If Price Low**"
   ]
  },
  {
   "cell_type": "code",
   "execution_count": 20,
   "metadata": {},
   "outputs": [],
   "source": [
    "# Import Libraries\n",
    "\n",
    "from bs4 import BeautifulSoup\n",
    "import requests\n",
    "import smtplib\n",
    "import time\n",
    "import datetime"
   ]
  },
  {
   "cell_type": "code",
   "execution_count": 32,
   "metadata": {},
   "outputs": [
    {
     "name": "stdout",
     "output_type": "stream",
     "text": [
      "\n",
      "            The Lord of the Rings\n",
      "           \n",
      "\n",
      "                          ₹2,542.00\n",
      "                         \n",
      "\n",
      "             2,244 ratings\n",
      "            \n"
     ]
    }
   ],
   "source": [
    "# Connect to Website \n",
    "URL = 'https://www.amazon.in/Lord-Rings-J-R-Tolkien/dp/0008471282/ref=sr_1_5?crid=2GRVTRO0XUESB&keywords=lord+of+the+rings&qid=1661419347&sprefix=lord+of+the+rings+%2Caps%2C306&sr=8-5'\n",
    "\n",
    "# Finding User Agent - https://httpbin.org/get\n",
    "headers = {\"User-Agent\": \"Mozilla/5.0 (Windows NT 10.0; Win64; x64) AppleWebKit/537.36 (KHTML, like Gecko) Chrome/103.0.0.0 Safari/537.36\"}\n",
    "\n",
    "page = requests.get(URL, headers = headers)\n",
    "\n",
    "soup1 = BeautifulSoup(page.content, \"html.parser\")\n",
    "\n",
    "# Some Formatting\n",
    "soup2 = BeautifulSoup(soup1.prettify(), \"html.parser\")\n",
    "\n",
    "#print(soup2)\n",
    "\n",
    "\n",
    "title = soup2.find(id = 'productTitle').get_text()\n",
    "\n",
    "price = soup2.find(id = 'price').get_text()\n",
    "\n",
    "votes = soup2.find(id = 'acrCustomerReviewText').get_text()\n",
    "\n",
    "print(title)\n",
    "print(price)\n",
    "print(votes)"
   ]
  },
  {
   "cell_type": "code",
   "execution_count": 33,
   "metadata": {},
   "outputs": [
    {
     "name": "stdout",
     "output_type": "stream",
     "text": [
      "The Lord of the Rings\n",
      "2,542.00\n",
      "2,244 ratings\n"
     ]
    }
   ],
   "source": [
    "price = price.strip()[1:]\n",
    "title = title.strip()\n",
    "votes = votes.strip()\n",
    "\n",
    "print(title)\n",
    "print(price)\n",
    "print(votes)"
   ]
  },
  {
   "cell_type": "code",
   "execution_count": 23,
   "metadata": {},
   "outputs": [
    {
     "name": "stdout",
     "output_type": "stream",
     "text": [
      "2022-08-25\n"
     ]
    }
   ],
   "source": [
    "import datetime\n",
    "\n",
    "today = datetime.date.today()\n",
    "print(today)"
   ]
  },
  {
   "cell_type": "code",
   "execution_count": 36,
   "metadata": {},
   "outputs": [],
   "source": [
    "import csv\n",
    "\n",
    "header = ['Title', 'Price', 'Date', 'Votes']\n",
    "data = [title, price, today, votes]\n",
    "\n",
    "with open('Amazon_WebScraper_Dataset.csv','w', newline='', encoding='UTF8') as f:\n",
    "    writer = csv.writer(f)\n",
    "    writer.writerow(header)\n",
    "    writer.writerow(data)\n"
   ]
  },
  {
   "cell_type": "code",
   "execution_count": 43,
   "metadata": {},
   "outputs": [
    {
     "name": "stdout",
     "output_type": "stream",
     "text": [
      "                   Title     Price        Date          Votes\n",
      "0  The Lord of the Rings  2,542.00  2022-08-25  2,244 ratings\n",
      "1  The Lord of the Rings  2,542.00  2022-08-25  2,244 ratings\n",
      "2  The Lord of the Rings  2,542.00  2022-08-25  2,244 ratings\n",
      "3  The Lord of the Rings  2,542.00  2022-08-25  2,244 ratings\n"
     ]
    }
   ],
   "source": [
    "import pandas as pd \n",
    "\n",
    "df = pd.read_csv(r'C:\\Users\\acer\\Amazon_WebScraper_Dataset.csv')\n",
    "\n",
    "print(df)"
   ]
  },
  {
   "cell_type": "code",
   "execution_count": 42,
   "metadata": {},
   "outputs": [],
   "source": [
    "# Appending data to csv\n",
    "\n",
    "with open('Amazon_WebScraper_Dataset.csv','a+', newline='', encoding='UTF8') as f:\n",
    "    writer = csv.writer(f)\n",
    "    writer.writerow(data)"
   ]
  },
  {
   "cell_type": "code",
   "execution_count": 44,
   "metadata": {},
   "outputs": [],
   "source": [
    "def check_price():\n",
    "    URL = 'https://www.amazon.in/Lord-Rings-J-R-Tolkien/dp/0008471282/ref=sr_1_5?crid=2GRVTRO0XUESB&keywords=lord+of+the+rings&qid=1661419347&sprefix=lord+of+the+rings+%2Caps%2C306&sr=8-5'\n",
    "\n",
    "    # Finding User Agent - https://httpbin.org/get\n",
    "    headers = {\"User-Agent\": \"Mozilla/5.0 (Windows NT 10.0; Win64; x64) AppleWebKit/537.36 (KHTML, like Gecko) Chrome/103.0.0.0 Safari/537.36\"}\n",
    "\n",
    "    page = requests.get(URL, headers = headers)\n",
    "\n",
    "    soup1 = BeautifulSoup(page.content, \"html.parser\")\n",
    "\n",
    "    # Some Formatting\n",
    "    soup2 = BeautifulSoup(soup1.prettify(), \"html.parser\")\n",
    "\n",
    "    #print(soup2)\n",
    "\n",
    "\n",
    "    title = soup2.find(id = 'productTitle').get_text()\n",
    "\n",
    "    price = soup2.find(id = 'price').get_text()\n",
    "\n",
    "    votes = soup2.find(id = 'acrCustomerReviewText').get_text()\n",
    "    \n",
    "    price = price.strip()[1:]\n",
    "    title = title.strip()\n",
    "    votes = votes.strip()\n",
    "    \n",
    "    import datetime\n",
    "\n",
    "    today = datetime.date.today()\n",
    "    \n",
    "    import csv\n",
    "\n",
    "    header = ['Title', 'Price', 'Date', 'Votes']\n",
    "    data = [title, price, today, votes]\n",
    "    \n",
    "    with open('Amazon_WebScraper_Dataset.csv','a+', newline='', encoding='UTF8') as f:\n",
    "        writer = csv.writer(f)\n",
    "        writer.writerow(data)\n",
    "        \n",
    "    if(price < 2000):\n",
    "        send_mail()\n",
    "    \n",
    "    \n",
    "    \n",
    "    \n",
    "    \n",
    "    \n",
    "    \n",
    "    "
   ]
  },
  {
   "cell_type": "code",
   "execution_count": 47,
   "metadata": {},
   "outputs": [],
   "source": [
    "while(True):\n",
    "    check_price()\n",
    "    time.sleep(86400)"
   ]
  },
  {
   "cell_type": "code",
   "execution_count": 46,
   "metadata": {},
   "outputs": [
    {
     "name": "stdout",
     "output_type": "stream",
     "text": [
      "                   Title     Price        Date          Votes\n",
      "0  The Lord of the Rings  2,542.00  2022-08-25  2,244 ratings\n",
      "1  The Lord of the Rings  2,542.00  2022-08-25  2,244 ratings\n",
      "2  The Lord of the Rings  2,542.00  2022-08-25  2,244 ratings\n",
      "3  The Lord of the Rings  2,542.00  2022-08-25  2,244 ratings\n",
      "4  The Lord of the Rings  2,542.00  2022-08-25  2,244 ratings\n",
      "5  The Lord of the Rings  2,542.00  2022-08-25  2,244 ratings\n",
      "6  The Lord of the Rings  2,542.00  2022-08-25  2,244 ratings\n"
     ]
    }
   ],
   "source": [
    "import pandas as pd \n",
    "\n",
    "df = pd.read_csv(r'C:\\Users\\acer\\Amazon_WebScraper_Dataset.csv')\n",
    "\n",
    "print(df)"
   ]
  },
  {
   "cell_type": "code",
   "execution_count": null,
   "metadata": {},
   "outputs": [],
   "source": [
    "# sending yourself an email, when a price hits below a certain level\n",
    "\n",
    "def send_mail():\n",
    "    server = smtplib.SMTP_SSL('smtp.gmail.com',465)\n",
    "    server.ehlo()\n",
    "    #server.starttls()\n",
    "    server.ehlo()\n",
    "    server.login('bipulkhosla231@gmail.com','xxxxxxxxxxxxxx')\n",
    "    \n",
    "    subject = \"The Book you want is below Rs 2000! Now is your chance to buy!\"\n",
    "    body = \"Hey, This is the moment we have been waiting for. Now is your chance to pick up the Book.\n",
    "   \n",
    "    msg = f\"Subject: {subject}\\n\\n{body}\"\n",
    "    \n",
    "    server.sendmail(\n",
    "        'bipulkhosla231@gmail.com',\n",
    "        msg\n",
    "     \n",
    "    )"
   ]
  },
  {
   "cell_type": "code",
   "execution_count": null,
   "metadata": {},
   "outputs": [],
   "source": []
  }
 ],
 "metadata": {
  "kernelspec": {
   "display_name": "Python 3",
   "language": "python",
   "name": "python3"
  },
  "language_info": {
   "codemirror_mode": {
    "name": "ipython",
    "version": 3
   },
   "file_extension": ".py",
   "mimetype": "text/x-python",
   "name": "python",
   "nbconvert_exporter": "python",
   "pygments_lexer": "ipython3",
   "version": "3.8.5"
  }
 },
 "nbformat": 4,
 "nbformat_minor": 4
}
